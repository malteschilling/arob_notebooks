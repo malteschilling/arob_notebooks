{
 "cells": [
  {
   "cell_type": "code",
   "execution_count": null,
   "metadata": {},
   "outputs": [],
   "source": [
    "%pip install -q ipympl"
   ]
  },
  {
   "cell_type": "code",
   "execution_count": 1,
   "metadata": {},
   "outputs": [],
   "source": [
    "%matplotlib widget\n",
    "\n",
    "import matplotlib as mpl\n",
    "import matplotlib.pyplot as plt\n",
    "from ipywidgets import Button, FloatSlider, VBox\n",
    "import numpy as np\n",
    "from matplotlib.patches import Rectangle, Polygon, Arrow\n",
    "from matplotlib.collections import PatchCollection\n",
    "import time"
   ]
  },
  {
   "cell_type": "code",
   "execution_count": 2,
   "metadata": {},
   "outputs": [],
   "source": [
    "# Define a RobotCar class\n",
    "class RobotCar:\n",
    "    def __init__(self, control_fct, initial_pose=[0., 4., 0.], command=[0.1, 0.]):\n",
    "        self.pose = np.array(initial_pose)  # Robot's pose [x, y, theta]\n",
    "        self.command = np.array(command)  # Robot's command [velocity, turning angle]\n",
    "        self.hist_pos = np.array([[0.], [4.]])  # History of robot's positions for plotting\n",
    "\n",
    "        self.control_function = control_fct\n",
    "\n",
    "        # Create a figure and axis\n",
    "        fig, ax = plt.subplots(1, 1, figsize=(8, 4))\n",
    "\n",
    "        self.fig = fig\n",
    "        self.ax = ax\n",
    "        # Set the axis limits and aspect ratio\n",
    "        self.ax.set_xlim(-1, 23)\n",
    "        self.ax.set_ylim(-6, 6)\n",
    "        self.ax.set_aspect('equal')\n",
    "\n",
    "        self.error = 0.\n",
    "\n",
    "        self.ax.plot([-2.,25], [0.,0.], color=\"green\")\n",
    "\n",
    "        self.init_visualization_patches()\n",
    "\n",
    "    def init_visualization_patches(self):\n",
    "        # Create the robot body and wheels\n",
    "        v_initial = [[-1, -0.5], [-1, 0.5], [1, 0.5], [1, -0.5]]\n",
    "        body = Polygon(v_initial, closed=True, fc='r', ec='gray')\n",
    "        left_front_wheel = Rectangle((0.3, 0.5), 0.4, 0.1, fc='gray', ec='black', lw=3)\n",
    "        left_hind_wheel = Rectangle((-0.7, 0.5), 0.4, 0.1, fc='gray', ec='black', lw=3)\n",
    "        right_front_wheel = Rectangle((0.3, -0.5), 0.4, 0.1, fc='gray', ec='black', lw=3)\n",
    "        right_hind_wheel = Rectangle((-0.7, -0.5), 0.4, 0.1, fc='gray', ec='black', lw=3)\n",
    "\n",
    "        self.robot = PatchCollection([body, left_front_wheel,left_hind_wheel, right_front_wheel,right_hind_wheel], match_original=True)\n",
    "        self.arrow_left = Arrow(1,0,1,0, width=0.5, color=\"blue\")\n",
    "        # Add the patches to the axis\n",
    "        self.ax.add_collection( self.robot )\n",
    "        self.arr_hook = self.ax.add_patch( self.arrow_left )\n",
    "\n",
    "        self.line_robot_hist, = self.ax.plot(self.hist_pos[0], self.hist_pos[1], zorder=0)\n",
    "\n",
    "    def update_visualization(self):\n",
    "        # Update the visualization of the robot's pose and history\n",
    "        r = mpl.transforms.Affine2D().rotate(self.pose[2])\n",
    "        t = mpl.transforms.Affine2D().translate(self.pose[0], self.pose[1])\n",
    "        tra = r + t + self.ax.transData\n",
    "        self.robot.set_transform(tra)\n",
    "        self.line_robot_hist.set_data(self.hist_pos)\n",
    "        self.arr_hook.remove()\n",
    "        self.arrow_left = Arrow(1, 0, 1, self.command[1] * 15, width=0.5, color=\"blue\")\n",
    "        self.arr_hook = self.ax.add_patch( self.arrow_left )\n",
    "        self.arrow_left.set_transform(tra)\n",
    "\n",
    "    def reset_position(self, button):\n",
    "        # Reset the position of the robot\n",
    "        self.pose = np.array([0., 4., 0.])\n",
    "        self.hist_pos = np.array([[0.], [4.]])\n",
    "        self.update_visualization()\n",
    "\n",
    "    def simulate_one_step(self, button):\n",
    "        self.error = -self.pose[1]\n",
    "        self.command[1] = self.control_function( self.error )\n",
    "        if self.command[1] < -0.03:\n",
    "            self.command[1] = -0.03\n",
    "        elif self.command[1] > 0.03:\n",
    "            self.command[1] = 0.03 \n",
    "        # Simulate one step of the robot's motion\n",
    "        self.pose[0] += np.cos(self.pose[2]) * self.command[0]\n",
    "        self.pose[1] += np.sin(self.pose[2]) * self.command[0]\n",
    "        self.pose[2] += self.command[1]\n",
    "        self.hist_pos = np.append(self.hist_pos, np.array([[self.pose[0]], [self.pose[1]]]), axis=1)\n",
    "        self.update_visualization()\n",
    "        self.fig.canvas.draw()\n",
    "\n",
    "    def simulation_run(self, button):\n",
    "        # Run the simulation for a certain number of steps\n",
    "        for i in range(0, 100):\n",
    "            self.simulate_one_step(button)\n",
    "            #time.sleep(0.02)\n"
   ]
  },
  {
   "cell_type": "code",
   "execution_count": 3,
   "metadata": {},
   "outputs": [],
   "source": [
    "def control_function( error ):\n",
    "    steering = np.sign(error)\n",
    "    return steering"
   ]
  },
  {
   "cell_type": "code",
   "execution_count": 4,
   "metadata": {},
   "outputs": [
    {
     "data": {
      "application/vnd.jupyter.widget-view+json": {
       "model_id": "310f70e5475f4975a26bfacbf54c8c45",
       "version_major": 2,
       "version_minor": 0
      },
      "text/plain": [
       "VBox(children=(Button(description='Reset', style=ButtonStyle()), Button(description='Step', style=ButtonStyle(…"
      ]
     },
     "metadata": {},
     "output_type": "display_data"
    },
    {
     "data": {
      "application/vnd.jupyter.widget-view+json": {
       "model_id": "9cce95466276492e9c68aff3097b4799",
       "version_major": 2,
       "version_minor": 0
      },
      "image/png": "[encoded data removed]",
      "text/html": [
       "\n",
       "            <div style=\"display: inline-block;\">\n",
       "                <div class=\"jupyter-widgets widget-label\" style=\"text-align: center;\">\n",
       "                    Figure\n",
       "                </div>\n",
       "                <img src='data:image/png;base64,iVBORw0KGgoAAAANSUhEUgAAAyAAAAGQCAYAAABWJQQ0AAAAOXRFWHRTb2Z0d2FyZQBNYXRwbG90bGliIHZlcnNpb24zLjUuMSwgaHR0cHM6Ly9tYXRwbG90bGliLm9yZy/YYfK9AAAACXBIWXMAAA9hAAAPYQGoP6dpAAAbmUlEQVR4nO3dfYxU9b348c8AMouWHYV1gS3LQ61tVWyt4KU+1Ke2KGm8Qb1eTdGK11KJYKX8mir1D9dey/5a0DTRatQm1sZqbWrF9qqpJCraWlN8ulrT4iMXKiIP4gzS3qG7nN8fXvf+VhB2ceZ7lt3XK5nonD1zzocMnszbc85sIcuyLAAAABIYlPcAAADAwCFAAACAZAQIAACQjAABAACSESAAAEAyAgQAAEhGgAAAAMkIEAAAIBkBAgAAJCNAAACAZAQIAACQjAABAACSESAAAEAyAgQAAEhGgAAAAMkIEAAAIBkBAgAAJCNAAACAZAQIAACQjAABAACSESAAAEAyAgQAAEhGgAAAAMkIEAAAIBkBAgAAJCNAAACAZAQIAACQjAABAACSESAAAEAyAgQAAEhGgAAAAMkIEAAAIBkBAgAAJCNAAACAZAQIAACQjAABAACSESAAAEAyAgQAAEhGgAAAAMkIEAAAIBkBAgAAJCNAAACAZAQIAACQjACpg9dffz3OPffcGDlyZOy7775xxBFHxFNPPZX3WAAAkLsheQ/Q32zevDmOPfbYOOmkk+KBBx6I5ubmeOWVV2L//ffPezQAAMhdIcuyLO8h+pPLL788fv/738djjz2W9ygAANDnCJAaO/TQQ+OUU06Jv/71r7F8+fL46Ec/GhdffHHMnj37A19TrVajWq12Pd++fXu89dZbMXLkyCgUCinGBgBgF7Isiy1btkRLS0sMGuQuhg9DgNRYQ0NDREQsWLAgzjrrrPjjH/8Y8+fPj5tuuim++tWv7vQ1bW1tcdVVV6UcEwCAPbBmzZoYO3Zs3mPs1QRIjQ0dOjSmTJkSjz/+eNeyb3zjG7FixYr4wx/+sNPXvP8MSLlcjnHjxsWaNWuisbGx7jMDALBrlUolWltb4+23345SqZT3OHs1N6HX2JgxY+LQQw/ttuyQQw6Ju++++wNfUywWo1gs7rC8sbFRgAAA9CEuj//wXMBWY8cee2ysXLmy27IXX3wxxo8fn9NEAADQdwiQGvvmN78ZTzzxRCxatChefvnluOOOO+Lmm2+OuXPn5j0aAADkToDU2FFHHRX33HNP3HnnnTFp0qT493//9/jhD38YM2fOzHs0AADInZvQ+6BKpRKlUinK5bJ7QAAA+gCfz2rHGRAAACAZAQIAACQjQAAAgGQECAAAkIwAAQAAkhEgAABAMgIEAABIRoAAAADJCBAAACAZAQIAACQjQAAAgGQECAAAkIwAAQAAkhEgAABAMgIEAABIRoAAAADJCBAAACAZAQIAACQjQAAAgGQECAAAkIwAAQAAkhEgAABAMgIEAABIRoAAAADJCBAAACAZAQIAACQzJO8B6L2Ojo7YvHlzj9Y94IADYsiQ3r/NvdnHh9kPAAADi0+Me5nbb7895s2bF+VyuUfrl0qluP766+Pcc8+t2z72dD8AAAw8hSzLsryHoLtKpRKlUinK5XI0NjZ2Le/o6IimpqZehUHEu3GwcePGHp2h2NN99HY/AAB7kw/6fEbvuQdkL7J58+Y9CoNyudzjy6n2dB+93Q8AAAOTAAEAAJJxrUwftm7duti6dWvX802bNu3xtt58883o6OjY7XofZh8ftJ+hQ4fGyJEjP9R2AQDoHwRIH3brrbdGQ0ND1/POzs4oFotRrVZ7tZ1isRi/+MUvYvDgwbtdd0/3sbv9zJs3T4QAACBA+rLTfv3rmPi+eyqaGxriim3botLD7w5oLBTiew0NceaPf9zj/fZ2H7vaz4amprjnzDNj27ZtPd4WAAD9lwDpw5o2bYoxb77Zbdm8iJgTET291fuALIsh5XJEL24s7+0+9nQ/AAAMPAJkLzQkIg7sB/sAAGDg8S1YAABAMgIEAABIRoAAAADJCBD2Sp2deU8AAMCeECB11t7eHoVCIebPn5/3KP3GrFkRBx8c8cwzeU8CAEBvCZA6WrFiRdx8883x6U9/Ou9R+pXHH4947bWIf/qniBtvjOjFrysBACBnvoa3Tt55552YOXNm3HLLLXH11VfnPU5u3tm+X/zHf3w5/vM/949hw2qzzTfeePefHR0RF18c8fDDET/+cURjY222DwBA/QiQOpk7d258+ctfji9+8Yu7DZBqtRrVarXreaVSqfd4yfz2v0+JJ5+cEk8/nUWhUJttvv+Mx69+FfHHP0Y88EDEIYfUZh8AANSHAKmDn//85/H000/HihUrerR+e3t7XHXVVXWeKl/bt9eoPnaiszPiv/4r4pFHBAgAQF/nHpAaW7NmTVx66aVx++23R0NDQ49es3DhwiiXy12PNWvW1HnKdPYf9HZdt//eWZW5cyP+7d/quisAAGqgkGVu4a2lpUuXxumnnx6DBw/uWtbZ2RmFQiEGDRoU1Wq12892plKpRKlUipWjRsUn3nyz3iPX1RtjxsTlX2qPE044LUaMGFGTbV588bv3gQwZElEsRvzkJxH/8i812TQAwE699/msXC5HoxtPPxSXYNXYF77whXj++ee7LbvgggviU5/6VFx22WW7jY/+6GMfWxXTp1djzJjabO/b3373n4cdFnH33REHHVSb7QIAUH8CpMaGDx8ekyZN6rZsv/32i5EjR+6wnD1z9dURTz8dcdVV754BAQBg7yFA2Ov867+++wAAYO8jQBJ45JFH8h4BAAD6BN+CBQAAJOMMyF6oIyI293DdA2LP3uTe7OPD7AcAgIHFZ8a9zO0RMS8iyj1cvxQR10fEuXXcx57uBwCAgcclWHuRjuh9GJT/5zUdddzHnuwHAICBSYDsRTZH78Mg/uc1Pb2cak/30dv9AAAwMLkEqw/bOHJkDB/0v424qbMzYv36PdrWm83N0dGDX4L4Yfaxs/1saGra420BAND/CJA+7Df//M/R0NDQ9byzszOKP/hBVKvVXm2nWCzGLy66qEe/hX1P97G7/QwdOrTX2wMAoP8RIH3YBRdcEMOHD++2rLm5Oa644oqoVCo92kZjY2N873vfizPPPLPH++3tPna3n6FDh8bIkSN7vC0AAPqvQpZlWd5D0F2lUolSqRTlcjkaGxt3+HlHR0ds3tyzuy0OOOCAGDKk953Zm318mP0AAOwNdvf5jJ7ziXEvNGTIkDjwwAP3+n0AADDw+BYsAAAgGQECAAAkI0AAAIBkBAgAAJCMAAEAAJIRIAAAQDICBAAASEaAAAAAyQgQAAAgGQECAAAkI0AAAIBkBAgAAJCMAAEAAJIRIAAAQDICBAAASEaAAAAAyQgQAAAgGQECAAAkI0AAAIBkBAgAAJCMAAEAAJIRIAAAQDICBAAASEaAAAAAyQgQAAAgGQECAAAkI0AAAIBkBAgAAJCMAAEAAJIRIAAAQDICpMba29vjqKOOiuHDh0dzc3PMmDEjVq5cmfdYAADQJwiQGlu+fHnMnTs3nnjiiVi2bFl0dHTEtGnTYuvWrXmPBgAAuStkWZblPUR/tmHDhmhubo7ly5fH8ccf36PXVCqVKJVKUS6Xo7Gxsc4TAgCwOz6f1Y4zIHVWLpcjImLEiBE5TwIAAPkbkvcA/VmWZbFgwYI47rjjYtKkSR+4XrVajWq12vW8UqmkGA8AAJJzBqSO5s2bF88991zceeedu1yvvb09SqVS16O1tTXRhAAAkJZ7QOrkkksuiaVLl8ajjz4aEydO3OW6OzsD0tra6hpDAIA+wj0gteMSrBrLsiwuueSSuOeee+KRRx7ZbXxERBSLxSgWiwmmAwCAfAmQGps7d27ccccdce+998bw4cNj3bp1ERFRKpVi2LBhOU8HAAD5cglWjRUKhZ0uv/XWW2PWrFk92oZTfAAAfYvPZ7XjDEiN6TkAAPhgvgULAABIRoAAAADJCBAAACAZAQIAACQjQAAAgGQECAAAkIwAAQAAkhEgAABAMgIEAABIRoAAAADJCBAAACAZAQIAACQjQAAAgGQECAAAkIwAAQAAkhEgAABAMgIEAABIRoAAAADJCBAAACAZAQIAACQjQAAAgGQECAAAkIwAAQAAkhEgAABAMgIEAABIRoAAAADJCBAAACAZAQIAACQjQAAAgGQECAAAkIwAAQAAkhEgAABAMgIEAABIRoAAAADJCBAAACAZAQIAACQjQAAAgGQECAAAkIwAAQAAkhEgAABAMgIEAABIRoDUyQ033BATJ06MhoaGmDx5cjz22GN5jwQAALkTIHVw1113xfz58+OKK66IZ555Jj7/+c/H9OnTY/Xq1XmPBgAAuSpkWZblPUR/M3Xq1DjyyCPjxhtv7Fp2yCGHxIwZM6K9vX23r69UKlEqlWLthrXR2NhYz1EBAOiBSqUSLQe2RLlc9vnsQxqS9wD9zbZt2+Kpp56Kyy+/vNvyadOmxeOPP77T11Sr1ahWq13PK5VKRES0XNMS0VC/WQEA6KH/znuA/sMlWDW2cePG6OzsjFGjRnVbPmrUqFi3bt1OX9Pe3h6lUqnr0drammJUAABIzhmQOikUCt2eZ1m2w7L3LFy4MBYsWND1vFKpRGtra6z9Py7BAgDoCyqVSrT835a8x+gXBEiNNTU1xeDBg3c427F+/fodzoq8p1gsRrFY3GH5fkP3i/2G7leXOQEA6LnOoZ15j9BvuASrxoYOHRqTJ0+OZcuWdVu+bNmyOOaYY3KaCgAA+gZnQOpgwYIFcd5558WUKVPi6KOPjptvvjlWr14dc+bMyXs0AADIlQCpg7PPPjs2bdoU3/3ud+ONN96ISZMmxf333x/jx4/PezQAAMiV3wPSB733e0B8zzQAQN/g81ntuAcEAABIRoAAAADJCBAAACAZAQIAACQjQAAAgGQECAAAkIwAAQAAkhEgAABAMgIEAABIRoAAAADJCBAAACAZAQIAACQjQAAAgGQECAAAkIwAAQAAkhEgAABAMgIEAABIRoAAAADJCBAAACAZAQIAACQjQAAAgGQECAAAkIwAAQAAkhEgAABAMgIEAABIRoAAAADJCBAAACAZAQIAACQjQAAAgGQECAAAkIwAAQAAkhEgAABAMgIEAABIRoAAAADJCBAAACAZAQIAACQjQAAAgGQECAAAkIwAAQAAkhEgAABAMgKkhlatWhUXXnhhTJw4MYYNGxYHHXRQXHnllbFt27a8RwMAgD5hSN4D9Cd/+ctfYvv27XHTTTfFxz/+8fjTn/4Us2fPjq1bt8aSJUvyHg8AAHJXyLIsy3uI/mzx4sVx4403xquvvtrj11QqlSiVSlEul6OxsbGO0wEA0BM+n9WOMyB1Vi6XY8SIEbtcp1qtRrVa7XpeqVTqPRYAAOTCPSB19Morr8R1110Xc+bM2eV67e3tUSqVuh6tra2JJgQAgLQESA+0tbVFoVDY5ePJJ5/s9pq1a9fGqaeeGmeddVZ87Wtf2+X2Fy5cGOVyueuxZs2aev5xAAAgN+4B6YGNGzfGxo0bd7nOhAkToqGhISLejY+TTjoppk6dGj/5yU9i0KDedZ5rDAEA+hafz2rHPSA90NTUFE1NTT1a9/XXX4+TTjopJk+eHLfeemuv4wMAAPozAVJDa9eujRNPPDHGjRsXS5YsiQ0bNnT9bPTo0TlOBgAAfYMAqaEHH3wwXn755Xj55Zdj7Nix3X7mSjcAAHATek3NmjUrsizb6QMAABAgAABAQgIEAABIRoAAAADJCBAAACAZAQIAACQjQAAAgGQECAAAkIwAAQAAkhEgAABAMgIEAABIRoAAAADJCBAAACAZAQIAACQjQAAAgGQECAAAkIwAAQAAkhEgAABAMgIEAABIRoAAAADJCBAAACAZAQIAACQjQAAAgGQECAAAkIwAAQAAkhEgAABAMgIEAABIRoAAAADJCBAAACAZAQIAACQjQAAAgGQECAAAkIwAAQAAkhEgAABAMgIEAABIRoAAAADJCBAAACAZAQIAACQjQAAAgGQECAAAkIwAAQAAkhEgdVKtVuOII46IQqEQzz77bN7jAABAnyBA6uTb3/52tLS05D0GAAD0KQKkDh544IF48MEHY8mSJXmPAgAAfcqQvAfob958882YPXt2LF26NPbdd9+8xwEAgD5FgNRQlmUxa9asmDNnTkyZMiVWrVrVo9dVq9WoVqtdzyuVSp0mBACAfLkEqwfa2tqiUCjs8vHkk0/GddddF5VKJRYuXNir7be3t0epVOp6tLa21ulPAgAA+SpkWZblPURft3Hjxti4ceMu15kwYUKcc8458Zvf/CYKhULX8s7Ozhg8eHDMnDkzbrvttp2+dmdnQFpbW6NcLkdjY2Nt/hAAAOyxSqUSpVLJ57MaECA1tHr16m6XT61duzZOOeWU+OUvfxlTp06NsWPH9mg7/oIDAPQtPp/VjntAamjcuHHdnn/kIx+JiIiDDjqox/EBAAD9mXtAAACAZJwBqaMJEyaEK9wAAOB/OQMCAAAkI0AAAIBkBAgAAJCMAAEAAJIRIAAAQDICBAAASEaAAAAAyQgQAAAgGQECAAAkI0AAAIBkBAgAAJCMAAEAAJIRIAAAQDICBAAASEaAAAAAyQgQAAAgGQECAAAkI0AAAIBkBAgAAJCMAAEAAJIRIAAAQDICBAAASEaAAAAAyQgQAAAgGQECAAAkI0AAAIBkBAgAAJCMAAEAAJIRIAAAQDICBAAASEaAAAAAyQgQAAAgGQECAAAkI0AAAIBkBAgAAJCMAAEAAJIRIAAAQDICBAAASEaAAAAAyQgQAAAgGQECAAAkI0Dq4L777oupU6fGsGHDoqmpKc4444y8RwIAgD5hSN4D9Dd33313zJ49OxYtWhQnn3xyZFkWzz//fN5jAQBAnyBAaqijoyMuvfTSWLx4cVx44YVdyz/5yU/mOBUAAPQdAqSGnn766Xj99ddj0KBB8dnPfjbWrVsXRxxxRCxZsiQOO+ywD3xdtVqNarXa9bxcLkdERKVSqfvMAADs3nufy7Isy3mSvZ8AqaFXX301IiLa2tri2muvjQkTJsQ111wTJ5xwQrz44osxYsSInb6uvb09rrrqqh2Wt7a21nVeAAB6Z8uWLVEqlfIeY69WyGTcbrW1te00EP5/K1asiBdffDFmzpwZN910U3z961+PiHfPbowdOzauvvrquOiii3b62vefAdm+fXu89dZbMXLkyCgUCrX7g7xPpVKJ1tbWWLNmTTQ2NtZtP/RN3v+BzfuPvwMDm/e/97Isiy1btkRLS0sMGuR7nD4MZ0B6YN68eXHOOefscp0JEybEli1bIiLi0EMP7VpeLBbjYx/7WKxevfoDX1ssFqNYLHZbtv/+++/5wL3U2Njo4DOAef8HNu8//g4MbN7/3nHmozYESA80NTVFU1PTbtebPHlyFIvFWLlyZRx33HEREfGPf/wjVq1aFePHj6/3mAAA0OcJkBpqbGyMOXPmxJVXXhmtra0xfvz4WLx4cUREnHXWWTlPBwAA+RMgNbZ48eIYMmRInHfeefH3v/89pk6dGg899FAccMABeY+2g2KxGFdeeeUOl38xMHj/BzbvP/4ODGzef/LkJnQAACAZt/ADAADJCBAAACAZAQIAACQjQAAAgGQEyAB1ww03xMSJE6OhoSEmT54cjz32WN4jkUhbW1sUCoVuj9GjR+c9FnXy6KOPxmmnnRYtLS1RKBRi6dKl3X6eZVm0tbVFS0tLDBs2LE488cR44YUX8hmWmtvd+z9r1qwdjgef+9zn8hmWmmtvb4+jjjoqhg8fHs3NzTFjxoxYuXJlt3UcA8iDABmA7rrrrpg/f35cccUV8cwzz8TnP//5mD59+i5/Wzv9y2GHHRZvvPFG1+P555/PeyTqZOvWrfGZz3wmrr/++p3+/Ac/+EFce+21cf3118eKFSti9OjR8aUvfSm2bNmSeFLqYXfvf0TEqaee2u14cP/99yeckHpavnx5zJ07N5544olYtmxZdHR0xLRp02Lr1q1d6zgGkAdfwzsATZ06NY488si48cYbu5YdcsghMWPGjGhvb89xMlJoa2uLpUuXxrPPPpv3KCRWKBTinnvuiRkzZkTEu//ns6WlJebPnx+XXXZZRERUq9UYNWpUfP/734+LLroox2mptfe//xHvngF5++23dzgzQv+0YcOGaG5ujuXLl8fxxx/vGEBunAEZYLZt2xZPPfVUTJs2rdvyadOmxeOPP57TVKT20ksvRUtLS0ycODHOOeecePXVV/MeiRy89tprsW7dum7Hg2KxGCeccILjwQDyyCOPRHNzc3ziE5+I2bNnx/r16/MeiTopl8sRETFixIiIcAwgPwJkgNm4cWN0dnbGqFGjui0fNWpUrFu3LqepSGnq1Knx05/+NH7729/GLbfcEuvWrYtjjjkmNm3alPdoJPbef/OOBwPX9OnT42c/+1k89NBDcc0118SKFSvi5JNPjmq1mvdo1FiWZbFgwYI47rjjYtKkSRHhGEB+huQ9APkoFArdnmdZtsMy+qfp06d3/fvhhx8eRx99dBx00EFx2223xYIFC3KcjLw4HgxcZ599dte/T5o0KaZMmRLjx4+P++67L84444wcJ6PW5s2bF88991z87ne/2+FnjgGk5gzIANPU1BSDBw/e4f9srF+/fof/A8LAsN9++8Xhhx8eL730Ut6jkNh7337meMB7xowZE+PHj3c86GcuueSS+PWvfx0PP/xwjB07tmu5YwB5ESADzNChQ2Py5MmxbNmybsuXLVsWxxxzTE5TkadqtRp//vOfY8yYMXmPQmITJ06M0aNHdzsebNu2LZYvX+54MEBt2rQp1qxZ43jQT2RZFvPmzYtf/epX8dBDD8XEiRO7/dwxgLy4BGsAWrBgQZx33nkxZcqUOProo+Pmm2+O1atXx5w5c/IejQS+9a1vxWmnnRbjxo2L9evXx9VXXx2VSiXOP//8vEejDt555514+eWXu56/9tpr8eyzz8aIESNi3LhxMX/+/Fi0aFEcfPDBcfDBB8eiRYti3333ja985Ss5Tk2t7Or9HzFiRLS1tcWZZ54ZY8aMiVWrVsV3vvOdaGpqitNPPz3HqamVuXPnxh133BH33ntvDB8+vOtMR6lUimHDhkWhUHAMIB8ZA9KPfvSjbPz48dnQoUOzI488Mlu+fHneI5HI2WefnY0ZMybbZ599spaWluyMM87IXnjhhbzHok4efvjhLCJ2eJx//vlZlmXZ9u3bsyuvvDIbPXp0ViwWs+OPPz57/vnn8x2amtnV+/+3v/0tmzZtWnbggQdm++yzTzZu3Ljs/PPPz1avXp332NTIzt77iMhuvfXWrnUcA8iD3wMCAAAk4x4QAAAgGQECAAAkI0AAAIBkBAgAAJCMAAEAAJIRIAAAQDICBAAASEaAAAAAyQgQAAAgGQECAAAkI0AAAIBkBAgAAJCMAAEAAJIRIAAAQDICBAAASEaAAAAAyQgQAAAgGQECAAAkI0AAAIBkBAgAAJCMAAEAAJIRIAAAQDL/D7IUB+D2fIhIAAAAAElFTkSuQmCC' width=800.0/>\n",
       "            </div>\n",
       "        "
      ],
      "text/plain": [
       "Canvas(toolbar=Toolbar(toolitems=[('Home', 'Reset original view', 'home', 'home'), ('Back', 'Back to previous …"
      ]
     },
     "metadata": {},
     "output_type": "display_data"
    }
   ],
   "source": [
    "# Create buttons and sliders for simulation control\n",
    "button_reset = Button(description=\"Reset\")\n",
    "button_step = Button(description=\"Step\")\n",
    "button_run = Button(description=\"Run\")\n",
    "\n",
    "# Create a RobotCar instance\n",
    "robot_car = RobotCar( control_function )\n",
    "\n",
    "# Define the event handlers for buttons and sliders\n",
    "button_reset.on_click(robot_car.reset_position)\n",
    "button_step.on_click(robot_car.simulate_one_step)\n",
    "button_run.on_click(robot_car.simulation_run)\n",
    "\n",
    "# Display the buttons and sliders in a VBox\n",
    "controls = VBox([button_reset, button_step, button_run])\n",
    "display(controls)\n",
    "\n",
    "# Start the simulation\n",
    "robot_car.update_visualization()\n",
    "plt.show()"
   ]
  },
  {
   "cell_type": "code",
   "execution_count": null,
   "metadata": {},
   "outputs": [],
   "source": []
  }
 ],
 "metadata": {
  "kernelspec": {
   "display_name": "py_38",
   "language": "python",
   "name": "python3"
  },
  "language_info": {
   "codemirror_mode": {
    "name": "ipython",
    "version": 3
   },
   "file_extension": ".py",
   "mimetype": "text/x-python",
   "name": "python",
   "nbconvert_exporter": "python",
   "pygments_lexer": "ipython3",
   "version": "3.8.15"
  },
  "orig_nbformat": 4
 },
 "nbformat": 4,
 "nbformat_minor": 2
}
